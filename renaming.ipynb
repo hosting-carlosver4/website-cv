{
 "cells": [
  {
   "cell_type": "code",
   "execution_count": 20,
   "metadata": {},
   "outputs": [],
   "source": [
    "import os"
   ]
  },
  {
   "cell_type": "code",
   "execution_count": 21,
   "metadata": {},
   "outputs": [
    {
     "data": {
      "text/plain": [
       "'h:\\\\website-cv-images-local'"
      ]
     },
     "execution_count": 21,
     "metadata": {},
     "output_type": "execute_result"
    }
   ],
   "source": [
    "os.getcwd()"
   ]
  },
  {
   "cell_type": "code",
   "execution_count": 22,
   "metadata": {},
   "outputs": [],
   "source": [
    "def renameFolderContent(folderName):\n",
    "    i = 1\n",
    "    for filename in os.listdir(folderName):\n",
    "        src = folderName + '/' + filename\n",
    "        dest = folderName + '/' + folderName + '_' + str(i) + '.jpg'\n",
    "        \n",
    "        os.rename(src, dest)\n",
    "        i += 1"
   ]
  },
  {
   "cell_type": "code",
   "execution_count": 23,
   "metadata": {},
   "outputs": [],
   "source": [
    "# porfolio\n",
    "os.chdir('portfolio')\n",
    "\n",
    "# for every subfolder in the portfolio folder\n",
    "for folder in os.listdir():\n",
    "    if os.path.isdir(folder):\n",
    "        renameFolderContent(folder)\n",
    "\n",
    "# back to root\n",
    "os.chdir('..')\n",
    "\n",
    "# rest of the files, for later\n"
   ]
  },
  {
   "cell_type": "code",
   "execution_count": 24,
   "metadata": {},
   "outputs": [],
   "source": [
    "os.chdir('..')"
   ]
  }
 ],
 "metadata": {
  "kernelspec": {
   "display_name": "Python 3",
   "language": "python",
   "name": "python3"
  },
  "language_info": {
   "codemirror_mode": {
    "name": "ipython",
    "version": 3
   },
   "file_extension": ".py",
   "mimetype": "text/x-python",
   "name": "python",
   "nbconvert_exporter": "python",
   "pygments_lexer": "ipython3",
   "version": "3.10.4"
  },
  "orig_nbformat": 4
 },
 "nbformat": 4,
 "nbformat_minor": 2
}
